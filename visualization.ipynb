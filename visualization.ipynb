{
 "cells": [
  {
   "cell_type": "code",
   "execution_count": 1,
   "metadata": {},
   "outputs": [],
   "source": [
    "import numpy as np\n",
    "import matplotlib.pyplot as plt\n",
    "\n",
    "import torch\n",
    "from torch.utils.data import DataLoader\n",
    "\n",
    "from utils import MyDataset"
   ]
  },
  {
   "cell_type": "markdown",
   "metadata": {},
   "source": [
    "## Load model and test data"
   ]
  },
  {
   "cell_type": "code",
   "execution_count": 75,
   "metadata": {},
   "outputs": [
    {
     "name": "stdout",
     "output_type": "stream",
     "text": [
      "(263, 480, 480, 1)\n",
      "(263, 480, 480, 1)\n"
     ]
    }
   ],
   "source": [
    "model = torch.load('./model/2999.pkl')\n",
    "test_set = MyDataset(\"./dataset/demo/\", \"./dataset/demo/\")\n",
    "test_loader  = DataLoader(test_set, batch_size=1, \n",
    "                            shuffle=False, drop_last=True)"
   ]
  },
  {
   "cell_type": "markdown",
   "metadata": {},
   "source": [
    "## Depth prediction visualization"
   ]
  },
  {
   "cell_type": "code",
   "execution_count": 77,
   "metadata": {},
   "outputs": [
    {
     "name": "stderr",
     "output_type": "stream",
     "text": [
      "d:\\HKUST-Lab\\Research\\7-TorchSLAM\\TorchSLAM\\utils.py:36: UserWarning: To copy construct from a tensor, it is recommended to use sourceTensor.clone().detach() or sourceTensor.clone().detach().requires_grad_(True), rather than torch.tensor(sourceTensor).\n",
      "  input_tensor = torch.tensor(self._X[data_index])\n",
      "d:\\HKUST-Lab\\Research\\7-TorchSLAM\\TorchSLAM\\utils.py:37: UserWarning: To copy construct from a tensor, it is recommended to use sourceTensor.clone().detach() or sourceTensor.clone().detach().requires_grad_(True), rather than torch.tensor(sourceTensor).\n",
      "  output_tensor = torch.tensor(self._Y[data_index])\n"
     ]
    }
   ],
   "source": [
    "%matplotlib inline\n",
    "import cv2\n",
    "device = torch.device('cuda:0' if torch.cuda.is_available() else 'cpu')\n",
    "index = 0\n",
    "predictions = []\n",
    "for origin_inputs, labels in test_loader:\n",
    "    inputs = origin_inputs.permute(0,3,1,2).float()\n",
    "    labels = labels.permute(0,3,1,2).float()\n",
    "\n",
    "    inputs = inputs.to(device)\n",
    "    labels = labels.to(device)\n",
    "\n",
    "    outputs = model(inputs)\n",
    "    predict = outputs.permute(0,2,3,1).data.cpu().numpy()\n",
    "\n",
    "    predictions.append(predict[0])\n",
    "\n",
    "    if index==0:\n",
    "        plt.figure()\n",
    "\n",
    "        plt.subplot(1,2,1)\n",
    "        plt.imshow(origin_inputs[0])\n",
    "\n",
    "        plt.subplot(1,2,2)\n",
    "        plt.imshow(predict[0])\n",
    "\n",
    "#     plt.savefig(\"./prediction/\"+str(index)+\".png\")\n",
    "    index+=1\n",
    "np.save(\"./results/demo.npy\", predictions)"
   ]
  },
  {
   "cell_type": "markdown",
   "metadata": {},
   "source": [
    "## Mapping"
   ]
  },
  {
   "cell_type": "code",
   "execution_count": 96,
   "metadata": {},
   "outputs": [
    {
     "data": {
      "text/plain": [
       "True"
      ]
     },
     "execution_count": 96,
     "metadata": {},
     "output_type": "execute_result"
    }
   ],
   "source": [
    "import cv2\n",
    "import numpy as np\n",
    "\n",
    "alpha = 0.8\n",
    "\n",
    "def grid_mapping(map, frame, index):\n",
    "    map[index:index+frame.shape[0],0:frame.shape[1]] = alpha*map[index:index+frame.shape[0],0:frame.shape[1]] + (1-alpha)*frame\n",
    "    return map\n",
    "\n",
    "def localization(frame1, frame2):\n",
    "    step = 0\n",
    "    min_residual = np.sum(np.abs(frame1-frame2))\n",
    "    for i in range(60):\n",
    "        residual = np.sum(np.abs(frame1[i:,:]-frame2[:480-i,:]))\n",
    "        if residual<=min_residual:\n",
    "            step = i\n",
    "            min_residual = residual\n",
    "    return step\n",
    "\n",
    "frames = np.load(\"./results/demo.npy\")\n",
    "map = np.zeros((1480, 480))\n",
    "step = 0\n",
    "pointer = 0\n",
    "\n",
    "for i, frame in enumerate(frames):\n",
    "    frame = frame[..., 0]\n",
    "    if i==0:\n",
    "        map[:frame.shape[0],:frame.shape[1]] = frame\n",
    "    else:\n",
    "        step = localization(last_frame, frame)\n",
    "        map = grid_mapping(map, frame, pointer)\n",
    "    pointer = step+pointer\n",
    "    \n",
    "    last_frame = frame\n",
    "\n",
    "ran = np.max(map)-np.min(map)\n",
    "map = (map-np.min(map)) / ran\n",
    "map = 255*map\n",
    "\n",
    "cv2.imwrite(\"../results/map.jpg\", map)"
   ]
  }
 ],
 "metadata": {
  "interpreter": {
   "hash": "031d005715e47269d676ba215341bb3cc800d655821c048a465ac79a327fbbcc"
  },
  "kernelspec": {
   "display_name": "Python 3.7.10 64-bit ('data': conda)",
   "language": "python",
   "name": "python3"
  },
  "language_info": {
   "codemirror_mode": {
    "name": "ipython",
    "version": 3
   },
   "file_extension": ".py",
   "mimetype": "text/x-python",
   "name": "python",
   "nbconvert_exporter": "python",
   "pygments_lexer": "ipython3",
   "version": "3.7.10"
  },
  "orig_nbformat": 4
 },
 "nbformat": 4,
 "nbformat_minor": 2
}
